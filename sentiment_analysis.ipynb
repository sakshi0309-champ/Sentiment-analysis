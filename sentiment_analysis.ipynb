{
 "cells": [
  {
   "cell_type": "markdown",
   "metadata": {},
   "source": [
    "<H1>Sentiment Analysis</H1>\n",
    "<br>\n",
    "Internet is reaching to more and more people everyday. There is more and more interaction among people through social networking sites. While we have plenty of positives, we can't deny existence of onlune bullying. Sentiment analysis can help us tackle this. Here's an attempt at doing that using scikit, nltk and panda.\n",
    "\n",
    "Panda helps us read csv data. There will be a seperate post on pandas.\n",
    "\n",
    "Panda read the training data and presented the data to us in the form of data frame. You may think data frame as sql table from where we can query data.\n"
   ]
  },
  {
   "cell_type": "code",
   "execution_count": 29,
   "metadata": {},
   "outputs": [
    {
     "data": {
      "text/html": [
       "<div>\n",
       "<style>\n",
       "    .dataframe thead tr:only-child th {\n",
       "        text-align: right;\n",
       "    }\n",
       "\n",
       "    .dataframe thead th {\n",
       "        text-align: left;\n",
       "    }\n",
       "\n",
       "    .dataframe tbody tr th {\n",
       "        vertical-align: top;\n",
       "    }\n",
       "</style>\n",
       "<table border=\"1\" class=\"dataframe\">\n",
       "  <thead>\n",
       "    <tr style=\"text-align: right;\">\n",
       "      <th></th>\n",
       "      <th>id</th>\n",
       "      <th>comment_text</th>\n",
       "      <th>toxic</th>\n",
       "    </tr>\n",
       "  </thead>\n",
       "  <tbody>\n",
       "    <tr>\n",
       "      <th>0</th>\n",
       "      <td>1231.0</td>\n",
       "      <td>you are bad.</td>\n",
       "      <td>1</td>\n",
       "    </tr>\n",
       "  </tbody>\n",
       "</table>\n",
       "</div>"
      ],
      "text/plain": [
       "       id  comment_text  toxic\n",
       "0  1231.0  you are bad.      1"
      ]
     },
     "execution_count": 29,
     "metadata": {},
     "output_type": "execute_result"
    }
   ],
   "source": [
    "import pandas as pd\n",
    "file_path = \"../../..//Downloads/train_1.csv\"\n",
    "df = pd.read_csv(file_path)\n",
    "df[:1]"
   ]
  },
  {
   "cell_type": "markdown",
   "metadata": {},
   "source": [
    "<br>\n",
    "It's very important to split the given data into two parts. One for training our model and other for testing our model. Scikit provides us with an option to split the data with <i>train_test_split</i>. <i>random_state</i> ensures same data is there in test and train, how much ever times you split.\n",
    "<br>"
   ]
  },
  {
   "cell_type": "code",
   "execution_count": 11,
   "metadata": {
    "collapsed": true
   },
   "outputs": [],
   "source": [
    "import numpy as np\n",
    "from sklearn.model_selection import train_test_split\n",
    "X_train, X_test, y_train, y_test = train_test_split(df.comment_text, df.toxic, test_size=0.20, random_state=42)\n",
    "name = df.toxic.name"
   ]
  },
  {
   "cell_type": "markdown",
   "metadata": {},
   "source": [
    "<br>\n",
    "Let's be practical. Any data in the world will not be ideal with correct spelling. Some of them will also have internet typo like itttttttt for it. Textblob provides us with collection of words. <i>TextBlob(message).words</i> will give us collection of words from a sentence. We can do word.correct() to correct spelling of the word. It has about 70% accuracy. Lemma is converting words into it's root form. Like given <i>playing</i> it will return <i>play</i>. word.lemmatize() is a callable function to do the same. \n",
    "\n",
    "It's important to preprocess because any model will ultimately rely on the occurence of similar words in test and train data. \n",
    "<br>"
   ]
  },
  {
   "cell_type": "code",
   "execution_count": 14,
   "metadata": {},
   "outputs": [],
   "source": [
    "from textblob import TextBlob\n",
    "import nltk\n",
    "def split_into_lemmas(message):\n",
    "    message = unicode(message, 'utf8').lower()\n",
    "    words = TextBlob(message).words\n",
    "    return [word.lemma for word in words]"
   ]
  },
  {
   "cell_type": "markdown",
   "metadata": {},
   "source": [
    "<br>\n",
    "We are going to train four different learning models on the data given. We are going to compare the results of the\n",
    "different classifiers. Describing each classifier is beyond the scope of this post. I will provide the relevent link \n",
    "at the end of this post.\n",
    "\n",
    "Pipelines are like a collection of function which is applied to text data sequentially.\n",
    "\n",
    "Here our pipeline has three functions:\n",
    "    a. CountVectorizer()\n",
    "    b. TfidfTransformer()\n",
    "    c. Classifier() which is SGDClassifier, LogisticRegression, MultinomialNB, SVC in our four different pipeline\n",
    "    \n",
    "CountVectorizer : Convert a collection of text documents to a matrix of token counts. For example : \"You are awesome\"\n",
    "        will be returned as per the analyzer given to CountVectorizer which is split_into_lemmas in our case. So, the \n",
    "        CountVectorizer will turn \"You are awesome\" into \"You\", \"are\", \"awesome\".  ngram_range further split each token\n",
    "        into substrings. We have given ngram_range as (2,4), which means each word will be substringed into substring\n",
    "        of 2, 3 and 4 characters. stop_words remove the commonly occuring english words from the given text.\n",
    "\n",
    "TfidfTransformer : Transform a count matrix to a normalized tf or tf-idf representation. Tf means term-frequency \n",
    "    while tf-idf means term-frequency times inverse document-frequency. This is a common term weighting scheme \n",
    "    in information retrieval, that has also found good use in document classification. The goal of using \n",
    "    tf-idf instead of the raw frequencies of occurrence of a token in a given document is to scale down \n",
    "    the impact of tokens that occur very frequently in a given corpus and that are hence empirically less \n",
    "    informative than features that occur in a small fraction of the training corpus.\n",
    "    \n",
    "Classifier : Classifier actually learns the data and classifies into the labels. \n",
    "</br>"
   ]
  },
  {
   "cell_type": "code",
   "execution_count": 19,
   "metadata": {},
   "outputs": [],
   "source": [
    "from sklearn.feature_extraction.text import CountVectorizer\n",
    "from sklearn.feature_extraction.text import TfidfTransformer\n",
    "from sklearn.linear_model import SGDClassifier\n",
    "from sklearn.linear_model import LogisticRegression\n",
    "from sklearn.naive_bayes import MultinomialNB\n",
    "from sklearn.svm import SVC"
   ]
  },
  {
   "cell_type": "markdown",
   "metadata": {},
   "source": [
    "<br>\n",
    "<h2>Making pipeline of SGDClassifier</h2>\n",
    "<br>\n"
   ]
  },
  {
   "cell_type": "code",
   "execution_count": 15,
   "metadata": {},
   "outputs": [
    {
     "data": {
      "text/plain": [
       "Pipeline(steps=[('vect', CountVectorizer(analyzer=<function split_into_lemmas at 0x11bd320c8>,\n",
       "        binary=False, decode_error=u'strict', dtype=<type 'numpy.int64'>,\n",
       "        encoding=u'utf-8', input=u'content', lowercase=True, max_df=1.0,\n",
       "        max_features=None, min_df=1, ngram_range=(2, 4), preprocess...   penalty='l2', power_t=0.5, random_state=None, shuffle=True,\n",
       "       verbose=0, warm_start=False))])"
      ]
     },
     "execution_count": 15,
     "metadata": {},
     "output_type": "execute_result"
    }
   ],
   "source": [
    "from sklearn.pipeline import Pipeline\n",
    "text_clf_SGDClassifier = Pipeline([('vect', CountVectorizer(analyzer=split_into_lemmas, ngram_range=(2,4), stop_words='english',lowercase=True)),\n",
    "                     ('tfidf', TfidfTransformer()),\n",
    "                     ('clf', SGDClassifier()),\n",
    "])\n",
    "text_clf_SGDClassifier.fit(X_train, y_train)"
   ]
  },
  {
   "cell_type": "markdown",
   "metadata": {},
   "source": [
    "<br>\n",
    "<h2>Making pipeline of LogisticRegression<h2>\n",
    "<br>"
   ]
  },
  {
   "cell_type": "code",
   "execution_count": 16,
   "metadata": {},
   "outputs": [
    {
     "data": {
      "text/plain": [
       "Pipeline(steps=[('vect', CountVectorizer(analyzer=<function split_into_lemmas at 0x11bd320c8>,\n",
       "        binary=False, decode_error=u'strict', dtype=<type 'numpy.int64'>,\n",
       "        encoding=u'utf-8', input=u'content', lowercase=True, max_df=1.0,\n",
       "        max_features=None, min_df=1, ngram_range=(2, 4), preprocess...ty='l2', random_state=None, solver='liblinear', tol=0.0001,\n",
       "          verbose=0, warm_start=False))])"
      ]
     },
     "execution_count": 16,
     "metadata": {},
     "output_type": "execute_result"
    }
   ],
   "source": [
    "text_clf_LogisticRegression = Pipeline([('vect', CountVectorizer(analyzer=split_into_lemmas, ngram_range=(2,4), stop_words='english',lowercase=True)),\n",
    "                     ('tfidf', TfidfTransformer()),\n",
    "                     ('clf', LogisticRegression()),\n",
    "])\n",
    "text_clf_LogisticRegression.fit(X_train, y_train)"
   ]
  },
  {
   "cell_type": "markdown",
   "metadata": {},
   "source": [
    "<br>\n",
    "<h2>Making pipeline of MultinomialNB<h2>\n",
    "<br>"
   ]
  },
  {
   "cell_type": "code",
   "execution_count": 17,
   "metadata": {},
   "outputs": [
    {
     "data": {
      "text/plain": [
       "Pipeline(steps=[('vect', CountVectorizer(analyzer=<function split_into_lemmas at 0x11bd320c8>,\n",
       "        binary=False, decode_error=u'strict', dtype=<type 'numpy.int64'>,\n",
       "        encoding=u'utf-8', input=u'content', lowercase=True, max_df=1.0,\n",
       "        max_features=None, min_df=1, ngram_range=(2, 4), preprocess...False,\n",
       "         use_idf=True)), ('clf', MultinomialNB(alpha=1.0, class_prior=None, fit_prior=True))])"
      ]
     },
     "execution_count": 17,
     "metadata": {},
     "output_type": "execute_result"
    }
   ],
   "source": [
    "text_clf_MultinomialNB = Pipeline([('vect', CountVectorizer(analyzer=split_into_lemmas, ngram_range=(2,4), stop_words='english',lowercase=True)),\n",
    "                     ('tfidf', TfidfTransformer()),\n",
    "                     ('clf', MultinomialNB()),\n",
    "])\n",
    "text_clf_MultinomialNB.fit(X_train, y_train)"
   ]
  },
  {
   "cell_type": "markdown",
   "metadata": {},
   "source": [
    "<br>\n",
    "<h2>Making pipeline of SVC<h2>\n",
    "<br>"
   ]
  },
  {
   "cell_type": "code",
   "execution_count": 43,
   "metadata": {},
   "outputs": [
    {
     "data": {
      "text/plain": [
       "Pipeline(steps=[('vect', CountVectorizer(analyzer=<function split_into_lemmas at 0x11bd320c8>,\n",
       "        binary=False, decode_error=u'strict', dtype=<type 'numpy.int64'>,\n",
       "        encoding=u'utf-8', input=u'content', lowercase=True, max_df=1.0,\n",
       "        max_features=None, min_df=1, ngram_range=(2, 4), preprocess...,\n",
       "  max_iter=-1, probability=False, random_state=None, shrinking=True,\n",
       "  tol=0.001, verbose=False))])"
      ]
     },
     "execution_count": 43,
     "metadata": {},
     "output_type": "execute_result"
    }
   ],
   "source": [
    "text_clf_SVC = Pipeline([('vect', CountVectorizer(analyzer=split_into_lemmas, ngram_range=(2,4), stop_words='english',lowercase=True)),\n",
    "                     ('tfidf', TfidfTransformer()),\n",
    "                     ('clf', SVC(kernel='linear')),\n",
    "])\n",
    "text_clf_SVC.fit(X_train, y_train)"
   ]
  },
  {
   "cell_type": "markdown",
   "metadata": {},
   "source": [
    "<br>\n",
    "Learning of data is done by using fit method. Now, our model is ready to predict on the test data.\n",
    "Let's start prediction.\n",
    "<br>"
   ]
  },
  {
   "cell_type": "code",
   "execution_count": 44,
   "metadata": {},
   "outputs": [],
   "source": [
    "predicted_SVC = text_clf_SVC.predict(X_test)"
   ]
  },
  {
   "cell_type": "code",
   "execution_count": 33,
   "metadata": {
    "collapsed": true
   },
   "outputs": [],
   "source": [
    "predicted_MultinomialNB = text_clf_MultinomialNB.predict(X_test)"
   ]
  },
  {
   "cell_type": "code",
   "execution_count": 34,
   "metadata": {
    "collapsed": true
   },
   "outputs": [],
   "source": [
    "predicted_LogisticRegression = text_clf_LogisticRegression.predict(X_test)"
   ]
  },
  {
   "cell_type": "code",
   "execution_count": 35,
   "metadata": {
    "collapsed": true
   },
   "outputs": [],
   "source": [
    "predicted_SGDClassifier = text_clf_SGDClassifier.predict(X_test)"
   ]
  },
  {
   "cell_type": "code",
   "execution_count": null,
   "metadata": {
    "collapsed": true
   },
   "outputs": [],
   "source": []
  },
  {
   "cell_type": "code",
   "execution_count": null,
   "metadata": {},
   "outputs": [],
   "source": []
  },
  {
   "cell_type": "code",
   "execution_count": 2,
   "metadata": {},
   "outputs": [
    {
     "name": "stdout",
     "output_type": "stream",
     "text": [
      "Collecting mediapipe\n",
      "  Downloading mediapipe-0.8.11-cp38-cp38-win_amd64.whl (49.0 MB)\n",
      "Requirement already satisfied: attrs>=19.1.0 in d:\\anaconda\\lib\\site-packages (from mediapipe) (21.2.0)\n",
      "Requirement already satisfied: absl-py in d:\\anaconda\\lib\\site-packages (from mediapipe) (1.0.0)\n",
      "Requirement already satisfied: protobuf<4,>=3.11 in d:\\anaconda\\lib\\site-packages (from mediapipe) (3.20.1)\n",
      "Requirement already satisfied: numpy in d:\\anaconda\\lib\\site-packages (from mediapipe) (1.20.3)\n",
      "Requirement already satisfied: matplotlib in d:\\anaconda\\lib\\site-packages (from mediapipe) (3.4.2)\n",
      "Collecting opencv-contrib-python\n",
      "  Downloading opencv_contrib_python-4.6.0.66-cp36-abi3-win_amd64.whl (42.5 MB)\n",
      "Requirement already satisfied: six in d:\\anaconda\\lib\\site-packages (from absl-py->mediapipe) (1.16.0)\n",
      "Requirement already satisfied: kiwisolver>=1.0.1 in d:\\anaconda\\lib\\site-packages (from matplotlib->mediapipe) (1.3.1)\n",
      "Requirement already satisfied: cycler>=0.10 in d:\\anaconda\\lib\\site-packages (from matplotlib->mediapipe) (0.10.0)\n",
      "Requirement already satisfied: python-dateutil>=2.7 in d:\\anaconda\\lib\\site-packages (from matplotlib->mediapipe) (2.8.2)\n",
      "Requirement already satisfied: pillow>=6.2.0 in d:\\anaconda\\lib\\site-packages (from matplotlib->mediapipe) (8.3.1)\n",
      "Requirement already satisfied: pyparsing>=2.2.1 in d:\\anaconda\\lib\\site-packages (from matplotlib->mediapipe) (2.4.7)\n",
      "Installing collected packages: opencv-contrib-python, mediapipe\n",
      "Successfully installed mediapipe-0.8.11 opencv-contrib-python-4.6.0.66\n"
     ]
    }
   ],
   "source": [
    "!pip install mediapipe"
   ]
  },
  {
   "cell_type": "code",
   "execution_count": null,
   "metadata": {},
   "outputs": [],
   "source": []
  },
  {
   "cell_type": "code",
   "execution_count": 6,
   "metadata": {},
   "outputs": [],
   "source": [
    "import mediapipe as mp\n",
    "import cv2\n",
    "import time\n",
    "import numpy as np\n",
    "import pandas as pd\n",
    "import os\n",
    "mpPose = mp.solutions.pose\n",
    "pose = mpPose.Pose()\n",
    "mpDraw = mp.solutions.drawing_utils # For drawing keypoints\n",
    "points = mpPose.PoseLandmark # Landmarks\n",
    "path = \"D:/downloads/DATASET/TRAIN/plank\" # enter dataset path\n",
    "data = []\n",
    "for p in points:\n",
    "        x = str(p)[13:]\n",
    "        data.append(x + \"_x\")\n",
    "        data.append(x + \"_y\")\n",
    "        data.append(x + \"_z\")\n",
    "        data.append(x + \"_vis\")\n",
    "data = pd.DataFrame(columns = data) # Empty dataset"
   ]
  },
  {
   "cell_type": "code",
   "execution_count": 7,
   "metadata": {},
   "outputs": [],
   "source": [
    "count = 0\n",
    "\n",
    "for img in os.listdir(path):\n",
    "\n",
    "        temp = []\n",
    "\n",
    "        img = cv2.imread(path + \"/\" + img)\n",
    "\n",
    "        imageWidth, imageHeight = img.shape[:2]\n",
    "\n",
    "        imgRGB = cv2.cvtColor(img, cv2.COLOR_BGR2RGB)\n",
    "\n",
    "        blackie = np.zeros(img.shape) # Blank image\n",
    "\n",
    "        results = pose.process(imgRGB)\n",
    "\n",
    "        if results.pose_landmarks:\n",
    "\n",
    "                # mpDraw.draw_landmarks(img, results.pose_landmarks, mpPose.POSE_CONNECTIONS) #draw landmarks on image\n",
    "\n",
    "                mpDraw.draw_landmarks(blackie, results.pose_landmarks, mpPose.POSE_CONNECTIONS) # draw landmarks on blackie\n",
    "\n",
    "                landmarks = results.pose_landmarks.landmark\n",
    "\n",
    "                for i,j in zip(points,landmarks):\n",
    "\n",
    "                        temp = temp + [j.x, j.y, j.z, j.visibility]\n",
    "\n",
    "                data.loc[count] = temp\n",
    "\n",
    "                count +=1\n",
    "\n",
    "        cv2.imshow(\"Image\", img)\n",
    "\n",
    "        cv2.imshow(\"blackie\",blackie)\n",
    "\n",
    "        cv2.waitKey(100)\n",
    "\n",
    "data.to_csv(\"dataset3.csv\") # save the data as a csv file"
   ]
  },
  {
   "cell_type": "code",
   "execution_count": 8,
   "metadata": {},
   "outputs": [
    {
     "data": {
      "text/html": [
       "<div>\n",
       "<style scoped>\n",
       "    .dataframe tbody tr th:only-of-type {\n",
       "        vertical-align: middle;\n",
       "    }\n",
       "\n",
       "    .dataframe tbody tr th {\n",
       "        vertical-align: top;\n",
       "    }\n",
       "\n",
       "    .dataframe thead th {\n",
       "        text-align: right;\n",
       "    }\n",
       "</style>\n",
       "<table border=\"1\" class=\"dataframe\">\n",
       "  <thead>\n",
       "    <tr style=\"text-align: right;\">\n",
       "      <th></th>\n",
       "      <th>NOSE_x</th>\n",
       "      <th>NOSE_y</th>\n",
       "      <th>NOSE_z</th>\n",
       "      <th>NOSE_vis</th>\n",
       "      <th>LEFT_EYE_INNER_x</th>\n",
       "      <th>LEFT_EYE_INNER_y</th>\n",
       "      <th>LEFT_EYE_INNER_z</th>\n",
       "      <th>LEFT_EYE_INNER_vis</th>\n",
       "      <th>LEFT_EYE_x</th>\n",
       "      <th>LEFT_EYE_y</th>\n",
       "      <th>...</th>\n",
       "      <th>RIGHT_HEEL_z</th>\n",
       "      <th>RIGHT_HEEL_vis</th>\n",
       "      <th>LEFT_FOOT_INDEX_x</th>\n",
       "      <th>LEFT_FOOT_INDEX_y</th>\n",
       "      <th>LEFT_FOOT_INDEX_z</th>\n",
       "      <th>LEFT_FOOT_INDEX_vis</th>\n",
       "      <th>RIGHT_FOOT_INDEX_x</th>\n",
       "      <th>RIGHT_FOOT_INDEX_y</th>\n",
       "      <th>RIGHT_FOOT_INDEX_z</th>\n",
       "      <th>RIGHT_FOOT_INDEX_vis</th>\n",
       "    </tr>\n",
       "  </thead>\n",
       "  <tbody>\n",
       "    <tr>\n",
       "      <th>0</th>\n",
       "      <td>0.289922</td>\n",
       "      <td>0.593100</td>\n",
       "      <td>-0.025951</td>\n",
       "      <td>0.999539</td>\n",
       "      <td>0.283265</td>\n",
       "      <td>0.609782</td>\n",
       "      <td>-0.015936</td>\n",
       "      <td>0.999151</td>\n",
       "      <td>0.283659</td>\n",
       "      <td>0.611358</td>\n",
       "      <td>...</td>\n",
       "      <td>-0.057191</td>\n",
       "      <td>0.980864</td>\n",
       "      <td>0.684848</td>\n",
       "      <td>0.977012</td>\n",
       "      <td>0.166631</td>\n",
       "      <td>0.818348</td>\n",
       "      <td>0.688589</td>\n",
       "      <td>0.992115</td>\n",
       "      <td>-0.063247</td>\n",
       "      <td>0.963998</td>\n",
       "    </tr>\n",
       "    <tr>\n",
       "      <th>1</th>\n",
       "      <td>0.245275</td>\n",
       "      <td>0.522872</td>\n",
       "      <td>-0.683064</td>\n",
       "      <td>0.999585</td>\n",
       "      <td>0.235694</td>\n",
       "      <td>0.508013</td>\n",
       "      <td>-0.677097</td>\n",
       "      <td>0.999235</td>\n",
       "      <td>0.238029</td>\n",
       "      <td>0.503244</td>\n",
       "      <td>...</td>\n",
       "      <td>0.167703</td>\n",
       "      <td>0.981539</td>\n",
       "      <td>0.355404</td>\n",
       "      <td>0.111376</td>\n",
       "      <td>0.048933</td>\n",
       "      <td>0.833656</td>\n",
       "      <td>0.925088</td>\n",
       "      <td>0.799281</td>\n",
       "      <td>0.027391</td>\n",
       "      <td>0.967267</td>\n",
       "    </tr>\n",
       "    <tr>\n",
       "      <th>2</th>\n",
       "      <td>0.176850</td>\n",
       "      <td>0.553812</td>\n",
       "      <td>-0.229864</td>\n",
       "      <td>0.999543</td>\n",
       "      <td>0.157233</td>\n",
       "      <td>0.540791</td>\n",
       "      <td>-0.217360</td>\n",
       "      <td>0.999085</td>\n",
       "      <td>0.156546</td>\n",
       "      <td>0.536593</td>\n",
       "      <td>...</td>\n",
       "      <td>0.169403</td>\n",
       "      <td>0.979295</td>\n",
       "      <td>0.637016</td>\n",
       "      <td>0.238359</td>\n",
       "      <td>0.220757</td>\n",
       "      <td>0.844211</td>\n",
       "      <td>0.914533</td>\n",
       "      <td>0.735807</td>\n",
       "      <td>0.100385</td>\n",
       "      <td>0.968350</td>\n",
       "    </tr>\n",
       "    <tr>\n",
       "      <th>3</th>\n",
       "      <td>0.249578</td>\n",
       "      <td>0.581288</td>\n",
       "      <td>-0.057560</td>\n",
       "      <td>0.989069</td>\n",
       "      <td>0.227002</td>\n",
       "      <td>0.589646</td>\n",
       "      <td>-0.045526</td>\n",
       "      <td>0.988572</td>\n",
       "      <td>0.225584</td>\n",
       "      <td>0.591502</td>\n",
       "      <td>...</td>\n",
       "      <td>0.169233</td>\n",
       "      <td>0.977160</td>\n",
       "      <td>1.094709</td>\n",
       "      <td>0.476605</td>\n",
       "      <td>0.554517</td>\n",
       "      <td>0.799060</td>\n",
       "      <td>1.225944</td>\n",
       "      <td>0.465166</td>\n",
       "      <td>0.072315</td>\n",
       "      <td>0.957452</td>\n",
       "    </tr>\n",
       "    <tr>\n",
       "      <th>4</th>\n",
       "      <td>0.586579</td>\n",
       "      <td>0.501801</td>\n",
       "      <td>0.164065</td>\n",
       "      <td>0.929631</td>\n",
       "      <td>0.564449</td>\n",
       "      <td>0.514188</td>\n",
       "      <td>0.078241</td>\n",
       "      <td>0.925645</td>\n",
       "      <td>0.562566</td>\n",
       "      <td>0.514677</td>\n",
       "      <td>...</td>\n",
       "      <td>1.681661</td>\n",
       "      <td>0.889646</td>\n",
       "      <td>0.758696</td>\n",
       "      <td>0.446640</td>\n",
       "      <td>1.672047</td>\n",
       "      <td>0.728083</td>\n",
       "      <td>0.615799</td>\n",
       "      <td>0.417369</td>\n",
       "      <td>1.564325</td>\n",
       "      <td>0.871773</td>\n",
       "    </tr>\n",
       "    <tr>\n",
       "      <th>...</th>\n",
       "      <td>...</td>\n",
       "      <td>...</td>\n",
       "      <td>...</td>\n",
       "      <td>...</td>\n",
       "      <td>...</td>\n",
       "      <td>...</td>\n",
       "      <td>...</td>\n",
       "      <td>...</td>\n",
       "      <td>...</td>\n",
       "      <td>...</td>\n",
       "      <td>...</td>\n",
       "      <td>...</td>\n",
       "      <td>...</td>\n",
       "      <td>...</td>\n",
       "      <td>...</td>\n",
       "      <td>...</td>\n",
       "      <td>...</td>\n",
       "      <td>...</td>\n",
       "      <td>...</td>\n",
       "      <td>...</td>\n",
       "      <td>...</td>\n",
       "    </tr>\n",
       "    <tr>\n",
       "      <th>221</th>\n",
       "      <td>0.260820</td>\n",
       "      <td>0.436501</td>\n",
       "      <td>-0.109513</td>\n",
       "      <td>0.979909</td>\n",
       "      <td>0.249065</td>\n",
       "      <td>0.448528</td>\n",
       "      <td>-0.099680</td>\n",
       "      <td>0.980340</td>\n",
       "      <td>0.248566</td>\n",
       "      <td>0.450631</td>\n",
       "      <td>...</td>\n",
       "      <td>0.096050</td>\n",
       "      <td>0.765992</td>\n",
       "      <td>0.793931</td>\n",
       "      <td>0.874893</td>\n",
       "      <td>0.000087</td>\n",
       "      <td>0.723369</td>\n",
       "      <td>0.791034</td>\n",
       "      <td>0.869050</td>\n",
       "      <td>0.000746</td>\n",
       "      <td>0.746369</td>\n",
       "    </tr>\n",
       "    <tr>\n",
       "      <th>222</th>\n",
       "      <td>0.554634</td>\n",
       "      <td>0.340087</td>\n",
       "      <td>-0.443477</td>\n",
       "      <td>0.980669</td>\n",
       "      <td>0.564973</td>\n",
       "      <td>0.343498</td>\n",
       "      <td>-0.488323</td>\n",
       "      <td>0.981241</td>\n",
       "      <td>0.562241</td>\n",
       "      <td>0.352715</td>\n",
       "      <td>...</td>\n",
       "      <td>0.443101</td>\n",
       "      <td>0.778746</td>\n",
       "      <td>0.578370</td>\n",
       "      <td>0.812583</td>\n",
       "      <td>0.484400</td>\n",
       "      <td>0.715286</td>\n",
       "      <td>0.688028</td>\n",
       "      <td>0.397476</td>\n",
       "      <td>0.447443</td>\n",
       "      <td>0.740647</td>\n",
       "    </tr>\n",
       "    <tr>\n",
       "      <th>223</th>\n",
       "      <td>0.238893</td>\n",
       "      <td>0.385803</td>\n",
       "      <td>-0.247364</td>\n",
       "      <td>0.982584</td>\n",
       "      <td>0.226386</td>\n",
       "      <td>0.368248</td>\n",
       "      <td>-0.223513</td>\n",
       "      <td>0.983045</td>\n",
       "      <td>0.226521</td>\n",
       "      <td>0.361622</td>\n",
       "      <td>...</td>\n",
       "      <td>0.145241</td>\n",
       "      <td>0.779742</td>\n",
       "      <td>0.861822</td>\n",
       "      <td>0.639790</td>\n",
       "      <td>-0.069882</td>\n",
       "      <td>0.738053</td>\n",
       "      <td>0.832216</td>\n",
       "      <td>0.761814</td>\n",
       "      <td>-0.027853</td>\n",
       "      <td>0.758346</td>\n",
       "    </tr>\n",
       "    <tr>\n",
       "      <th>224</th>\n",
       "      <td>-0.076196</td>\n",
       "      <td>0.346832</td>\n",
       "      <td>0.079952</td>\n",
       "      <td>0.984301</td>\n",
       "      <td>-0.103910</td>\n",
       "      <td>0.317433</td>\n",
       "      <td>0.036771</td>\n",
       "      <td>0.984718</td>\n",
       "      <td>-0.104165</td>\n",
       "      <td>0.314715</td>\n",
       "      <td>...</td>\n",
       "      <td>0.092924</td>\n",
       "      <td>0.760272</td>\n",
       "      <td>1.246047</td>\n",
       "      <td>0.807414</td>\n",
       "      <td>-0.108435</td>\n",
       "      <td>0.751234</td>\n",
       "      <td>1.224538</td>\n",
       "      <td>0.767197</td>\n",
       "      <td>0.040713</td>\n",
       "      <td>0.742222</td>\n",
       "    </tr>\n",
       "    <tr>\n",
       "      <th>225</th>\n",
       "      <td>0.224111</td>\n",
       "      <td>0.481253</td>\n",
       "      <td>-0.252504</td>\n",
       "      <td>0.985868</td>\n",
       "      <td>0.219773</td>\n",
       "      <td>0.452063</td>\n",
       "      <td>-0.226890</td>\n",
       "      <td>0.986240</td>\n",
       "      <td>0.222484</td>\n",
       "      <td>0.444634</td>\n",
       "      <td>...</td>\n",
       "      <td>0.060713</td>\n",
       "      <td>0.762460</td>\n",
       "      <td>0.878556</td>\n",
       "      <td>0.809063</td>\n",
       "      <td>-0.058878</td>\n",
       "      <td>0.771401</td>\n",
       "      <td>0.873720</td>\n",
       "      <td>0.829050</td>\n",
       "      <td>-0.142818</td>\n",
       "      <td>0.763350</td>\n",
       "    </tr>\n",
       "  </tbody>\n",
       "</table>\n",
       "<p>226 rows × 132 columns</p>\n",
       "</div>"
      ],
      "text/plain": [
       "       NOSE_x    NOSE_y    NOSE_z  NOSE_vis  LEFT_EYE_INNER_x  \\\n",
       "0    0.289922  0.593100 -0.025951  0.999539          0.283265   \n",
       "1    0.245275  0.522872 -0.683064  0.999585          0.235694   \n",
       "2    0.176850  0.553812 -0.229864  0.999543          0.157233   \n",
       "3    0.249578  0.581288 -0.057560  0.989069          0.227002   \n",
       "4    0.586579  0.501801  0.164065  0.929631          0.564449   \n",
       "..        ...       ...       ...       ...               ...   \n",
       "221  0.260820  0.436501 -0.109513  0.979909          0.249065   \n",
       "222  0.554634  0.340087 -0.443477  0.980669          0.564973   \n",
       "223  0.238893  0.385803 -0.247364  0.982584          0.226386   \n",
       "224 -0.076196  0.346832  0.079952  0.984301         -0.103910   \n",
       "225  0.224111  0.481253 -0.252504  0.985868          0.219773   \n",
       "\n",
       "     LEFT_EYE_INNER_y  LEFT_EYE_INNER_z  LEFT_EYE_INNER_vis  LEFT_EYE_x  \\\n",
       "0            0.609782         -0.015936            0.999151    0.283659   \n",
       "1            0.508013         -0.677097            0.999235    0.238029   \n",
       "2            0.540791         -0.217360            0.999085    0.156546   \n",
       "3            0.589646         -0.045526            0.988572    0.225584   \n",
       "4            0.514188          0.078241            0.925645    0.562566   \n",
       "..                ...               ...                 ...         ...   \n",
       "221          0.448528         -0.099680            0.980340    0.248566   \n",
       "222          0.343498         -0.488323            0.981241    0.562241   \n",
       "223          0.368248         -0.223513            0.983045    0.226521   \n",
       "224          0.317433          0.036771            0.984718   -0.104165   \n",
       "225          0.452063         -0.226890            0.986240    0.222484   \n",
       "\n",
       "     LEFT_EYE_y  ...  RIGHT_HEEL_z  RIGHT_HEEL_vis  LEFT_FOOT_INDEX_x  \\\n",
       "0      0.611358  ...     -0.057191        0.980864           0.684848   \n",
       "1      0.503244  ...      0.167703        0.981539           0.355404   \n",
       "2      0.536593  ...      0.169403        0.979295           0.637016   \n",
       "3      0.591502  ...      0.169233        0.977160           1.094709   \n",
       "4      0.514677  ...      1.681661        0.889646           0.758696   \n",
       "..          ...  ...           ...             ...                ...   \n",
       "221    0.450631  ...      0.096050        0.765992           0.793931   \n",
       "222    0.352715  ...      0.443101        0.778746           0.578370   \n",
       "223    0.361622  ...      0.145241        0.779742           0.861822   \n",
       "224    0.314715  ...      0.092924        0.760272           1.246047   \n",
       "225    0.444634  ...      0.060713        0.762460           0.878556   \n",
       "\n",
       "     LEFT_FOOT_INDEX_y  LEFT_FOOT_INDEX_z  LEFT_FOOT_INDEX_vis  \\\n",
       "0             0.977012           0.166631             0.818348   \n",
       "1             0.111376           0.048933             0.833656   \n",
       "2             0.238359           0.220757             0.844211   \n",
       "3             0.476605           0.554517             0.799060   \n",
       "4             0.446640           1.672047             0.728083   \n",
       "..                 ...                ...                  ...   \n",
       "221           0.874893           0.000087             0.723369   \n",
       "222           0.812583           0.484400             0.715286   \n",
       "223           0.639790          -0.069882             0.738053   \n",
       "224           0.807414          -0.108435             0.751234   \n",
       "225           0.809063          -0.058878             0.771401   \n",
       "\n",
       "     RIGHT_FOOT_INDEX_x  RIGHT_FOOT_INDEX_y  RIGHT_FOOT_INDEX_z  \\\n",
       "0              0.688589            0.992115           -0.063247   \n",
       "1              0.925088            0.799281            0.027391   \n",
       "2              0.914533            0.735807            0.100385   \n",
       "3              1.225944            0.465166            0.072315   \n",
       "4              0.615799            0.417369            1.564325   \n",
       "..                  ...                 ...                 ...   \n",
       "221            0.791034            0.869050            0.000746   \n",
       "222            0.688028            0.397476            0.447443   \n",
       "223            0.832216            0.761814           -0.027853   \n",
       "224            1.224538            0.767197            0.040713   \n",
       "225            0.873720            0.829050           -0.142818   \n",
       "\n",
       "     RIGHT_FOOT_INDEX_vis  \n",
       "0                0.963998  \n",
       "1                0.967267  \n",
       "2                0.968350  \n",
       "3                0.957452  \n",
       "4                0.871773  \n",
       "..                    ...  \n",
       "221              0.746369  \n",
       "222              0.740647  \n",
       "223              0.758346  \n",
       "224              0.742222  \n",
       "225              0.763350  \n",
       "\n",
       "[226 rows x 132 columns]"
      ]
     },
     "execution_count": 8,
     "metadata": {},
     "output_type": "execute_result"
    }
   ],
   "source": [
    "data"
   ]
  },
  {
   "cell_type": "code",
   "execution_count": 9,
   "metadata": {},
   "outputs": [
    {
     "ename": "KeyError",
     "evalue": "'target'",
     "output_type": "error",
     "traceback": [
      "\u001b[1;31m---------------------------------------------------------------------------\u001b[0m",
      "\u001b[1;31mKeyError\u001b[0m                                  Traceback (most recent call last)",
      "\u001b[1;32mD:\\anaconda\\lib\\site-packages\\pandas\\core\\indexes\\base.py\u001b[0m in \u001b[0;36mget_loc\u001b[1;34m(self, key, method, tolerance)\u001b[0m\n\u001b[0;32m   3360\u001b[0m             \u001b[1;32mtry\u001b[0m\u001b[1;33m:\u001b[0m\u001b[1;33m\u001b[0m\u001b[1;33m\u001b[0m\u001b[0m\n\u001b[1;32m-> 3361\u001b[1;33m                 \u001b[1;32mreturn\u001b[0m \u001b[0mself\u001b[0m\u001b[1;33m.\u001b[0m\u001b[0m_engine\u001b[0m\u001b[1;33m.\u001b[0m\u001b[0mget_loc\u001b[0m\u001b[1;33m(\u001b[0m\u001b[0mcasted_key\u001b[0m\u001b[1;33m)\u001b[0m\u001b[1;33m\u001b[0m\u001b[1;33m\u001b[0m\u001b[0m\n\u001b[0m\u001b[0;32m   3362\u001b[0m             \u001b[1;32mexcept\u001b[0m \u001b[0mKeyError\u001b[0m \u001b[1;32mas\u001b[0m \u001b[0merr\u001b[0m\u001b[1;33m:\u001b[0m\u001b[1;33m\u001b[0m\u001b[1;33m\u001b[0m\u001b[0m\n",
      "\u001b[1;32mD:\\anaconda\\lib\\site-packages\\pandas\\_libs\\index.pyx\u001b[0m in \u001b[0;36mpandas._libs.index.IndexEngine.get_loc\u001b[1;34m()\u001b[0m\n",
      "\u001b[1;32mD:\\anaconda\\lib\\site-packages\\pandas\\_libs\\index.pyx\u001b[0m in \u001b[0;36mpandas._libs.index.IndexEngine.get_loc\u001b[1;34m()\u001b[0m\n",
      "\u001b[1;32mpandas\\_libs\\hashtable_class_helper.pxi\u001b[0m in \u001b[0;36mpandas._libs.hashtable.PyObjectHashTable.get_item\u001b[1;34m()\u001b[0m\n",
      "\u001b[1;32mpandas\\_libs\\hashtable_class_helper.pxi\u001b[0m in \u001b[0;36mpandas._libs.hashtable.PyObjectHashTable.get_item\u001b[1;34m()\u001b[0m\n",
      "\u001b[1;31mKeyError\u001b[0m: 'target'",
      "\nThe above exception was the direct cause of the following exception:\n",
      "\u001b[1;31mKeyError\u001b[0m                                  Traceback (most recent call last)",
      "\u001b[1;32m<ipython-input-9-8c47c7064bf7>\u001b[0m in \u001b[0;36m<module>\u001b[1;34m\u001b[0m\n\u001b[0;32m      1\u001b[0m \u001b[1;32mfrom\u001b[0m \u001b[0msklearn\u001b[0m\u001b[1;33m.\u001b[0m\u001b[0msvm\u001b[0m \u001b[1;32mimport\u001b[0m \u001b[0mSVC\u001b[0m\u001b[1;33m\u001b[0m\u001b[1;33m\u001b[0m\u001b[0m\n\u001b[0;32m      2\u001b[0m \u001b[0mdata\u001b[0m \u001b[1;33m=\u001b[0m \u001b[0mpd\u001b[0m\u001b[1;33m.\u001b[0m\u001b[0mread_csv\u001b[0m\u001b[1;33m(\u001b[0m\u001b[1;34m\"dataset3.csv\"\u001b[0m\u001b[1;33m)\u001b[0m\u001b[1;33m\u001b[0m\u001b[1;33m\u001b[0m\u001b[0m\n\u001b[1;32m----> 3\u001b[1;33m \u001b[0mX\u001b[0m\u001b[1;33m,\u001b[0m\u001b[0mY\u001b[0m \u001b[1;33m=\u001b[0m \u001b[0mdata\u001b[0m\u001b[1;33m.\u001b[0m\u001b[0miloc\u001b[0m\u001b[1;33m[\u001b[0m\u001b[1;33m:\u001b[0m\u001b[1;33m,\u001b[0m\u001b[1;33m:\u001b[0m\u001b[1;36m132\u001b[0m\u001b[1;33m]\u001b[0m\u001b[1;33m,\u001b[0m\u001b[0mdata\u001b[0m\u001b[1;33m[\u001b[0m\u001b[1;34m'target'\u001b[0m\u001b[1;33m]\u001b[0m\u001b[1;33m\u001b[0m\u001b[1;33m\u001b[0m\u001b[0m\n\u001b[0m\u001b[0;32m      4\u001b[0m \u001b[0mmodel\u001b[0m \u001b[1;33m=\u001b[0m \u001b[0mSVC\u001b[0m\u001b[1;33m(\u001b[0m\u001b[0mkernel\u001b[0m \u001b[1;33m=\u001b[0m \u001b[1;34m'poly'\u001b[0m\u001b[1;33m)\u001b[0m\u001b[1;33m\u001b[0m\u001b[1;33m\u001b[0m\u001b[0m\n\u001b[0;32m      5\u001b[0m \u001b[0mmodel\u001b[0m\u001b[1;33m.\u001b[0m\u001b[0mfit\u001b[0m\u001b[1;33m(\u001b[0m\u001b[0mX\u001b[0m\u001b[1;33m,\u001b[0m\u001b[0mY\u001b[0m\u001b[1;33m)\u001b[0m\u001b[1;33m\u001b[0m\u001b[1;33m\u001b[0m\u001b[0m\n",
      "\u001b[1;32mD:\\anaconda\\lib\\site-packages\\pandas\\core\\frame.py\u001b[0m in \u001b[0;36m__getitem__\u001b[1;34m(self, key)\u001b[0m\n\u001b[0;32m   3453\u001b[0m             \u001b[1;32mif\u001b[0m \u001b[0mself\u001b[0m\u001b[1;33m.\u001b[0m\u001b[0mcolumns\u001b[0m\u001b[1;33m.\u001b[0m\u001b[0mnlevels\u001b[0m \u001b[1;33m>\u001b[0m \u001b[1;36m1\u001b[0m\u001b[1;33m:\u001b[0m\u001b[1;33m\u001b[0m\u001b[1;33m\u001b[0m\u001b[0m\n\u001b[0;32m   3454\u001b[0m                 \u001b[1;32mreturn\u001b[0m \u001b[0mself\u001b[0m\u001b[1;33m.\u001b[0m\u001b[0m_getitem_multilevel\u001b[0m\u001b[1;33m(\u001b[0m\u001b[0mkey\u001b[0m\u001b[1;33m)\u001b[0m\u001b[1;33m\u001b[0m\u001b[1;33m\u001b[0m\u001b[0m\n\u001b[1;32m-> 3455\u001b[1;33m             \u001b[0mindexer\u001b[0m \u001b[1;33m=\u001b[0m \u001b[0mself\u001b[0m\u001b[1;33m.\u001b[0m\u001b[0mcolumns\u001b[0m\u001b[1;33m.\u001b[0m\u001b[0mget_loc\u001b[0m\u001b[1;33m(\u001b[0m\u001b[0mkey\u001b[0m\u001b[1;33m)\u001b[0m\u001b[1;33m\u001b[0m\u001b[1;33m\u001b[0m\u001b[0m\n\u001b[0m\u001b[0;32m   3456\u001b[0m             \u001b[1;32mif\u001b[0m \u001b[0mis_integer\u001b[0m\u001b[1;33m(\u001b[0m\u001b[0mindexer\u001b[0m\u001b[1;33m)\u001b[0m\u001b[1;33m:\u001b[0m\u001b[1;33m\u001b[0m\u001b[1;33m\u001b[0m\u001b[0m\n\u001b[0;32m   3457\u001b[0m                 \u001b[0mindexer\u001b[0m \u001b[1;33m=\u001b[0m \u001b[1;33m[\u001b[0m\u001b[0mindexer\u001b[0m\u001b[1;33m]\u001b[0m\u001b[1;33m\u001b[0m\u001b[1;33m\u001b[0m\u001b[0m\n",
      "\u001b[1;32mD:\\anaconda\\lib\\site-packages\\pandas\\core\\indexes\\base.py\u001b[0m in \u001b[0;36mget_loc\u001b[1;34m(self, key, method, tolerance)\u001b[0m\n\u001b[0;32m   3361\u001b[0m                 \u001b[1;32mreturn\u001b[0m \u001b[0mself\u001b[0m\u001b[1;33m.\u001b[0m\u001b[0m_engine\u001b[0m\u001b[1;33m.\u001b[0m\u001b[0mget_loc\u001b[0m\u001b[1;33m(\u001b[0m\u001b[0mcasted_key\u001b[0m\u001b[1;33m)\u001b[0m\u001b[1;33m\u001b[0m\u001b[1;33m\u001b[0m\u001b[0m\n\u001b[0;32m   3362\u001b[0m             \u001b[1;32mexcept\u001b[0m \u001b[0mKeyError\u001b[0m \u001b[1;32mas\u001b[0m \u001b[0merr\u001b[0m\u001b[1;33m:\u001b[0m\u001b[1;33m\u001b[0m\u001b[1;33m\u001b[0m\u001b[0m\n\u001b[1;32m-> 3363\u001b[1;33m                 \u001b[1;32mraise\u001b[0m \u001b[0mKeyError\u001b[0m\u001b[1;33m(\u001b[0m\u001b[0mkey\u001b[0m\u001b[1;33m)\u001b[0m \u001b[1;32mfrom\u001b[0m \u001b[0merr\u001b[0m\u001b[1;33m\u001b[0m\u001b[1;33m\u001b[0m\u001b[0m\n\u001b[0m\u001b[0;32m   3364\u001b[0m \u001b[1;33m\u001b[0m\u001b[0m\n\u001b[0;32m   3365\u001b[0m         \u001b[1;32mif\u001b[0m \u001b[0mis_scalar\u001b[0m\u001b[1;33m(\u001b[0m\u001b[0mkey\u001b[0m\u001b[1;33m)\u001b[0m \u001b[1;32mand\u001b[0m \u001b[0misna\u001b[0m\u001b[1;33m(\u001b[0m\u001b[0mkey\u001b[0m\u001b[1;33m)\u001b[0m \u001b[1;32mand\u001b[0m \u001b[1;32mnot\u001b[0m \u001b[0mself\u001b[0m\u001b[1;33m.\u001b[0m\u001b[0mhasnans\u001b[0m\u001b[1;33m:\u001b[0m\u001b[1;33m\u001b[0m\u001b[1;33m\u001b[0m\u001b[0m\n",
      "\u001b[1;31mKeyError\u001b[0m: 'target'"
     ]
    }
   ],
   "source": [
    "from sklearn.svm import SVC\n",
    "data = pd.read_csv(\"dataset3.csv\")\n",
    "X,Y = data.iloc[:,:132],data['target']\n",
    "model = SVC(kernel = 'poly')\n",
    "model.fit(X,Y)\n",
    "mpPose = mp.solutions.pose\n",
    "pose = mpPose.Pose()\n",
    "mpDraw = mp.solutions.drawing_utils\n",
    "path = \"enter image path\"\n",
    "img = cv2.imread(path)\n",
    "img = cv2.cvtColor(img, cv2.COLOR_BGR2RGB)\n",
    "results = pose.process(imgRGB)\n",
    "if results.pose_landmarks:\n",
    "        landmarks = results.pose_landmarks.landmark\n",
    "        for j in landmarks:\n",
    "                temp = temp + [j.x, j.y, j.z, j.visibility]\n",
    "        y = model.predict([temp])\n",
    "        if y == 0:\n",
    "            asan = \"plank\"\n",
    "        else:\n",
    "            asan = \"goddess\"\n",
    "        print(asan)\n",
    "        cv2.putText(img, asan, (50,50), cv2.FONT_HERSHEY_SIMPLEX,1,(255,255,0),3)\n",
    "        cv2.imshow(\"image\",img)"
   ]
  },
  {
   "cell_type": "code",
   "execution_count": null,
   "metadata": {},
   "outputs": [],
   "source": []
  }
 ],
 "metadata": {
  "anaconda-cloud": {},
  "celltoolbar": "Raw Cell Format",
  "kernelspec": {
   "display_name": "Python 3",
   "language": "python",
   "name": "python3"
  },
  "language_info": {
   "codemirror_mode": {
    "name": "ipython",
    "version": 3
   },
   "file_extension": ".py",
   "mimetype": "text/x-python",
   "name": "python",
   "nbconvert_exporter": "python",
   "pygments_lexer": "ipython3",
   "version": "3.8.11"
  }
 },
 "nbformat": 4,
 "nbformat_minor": 1
}
